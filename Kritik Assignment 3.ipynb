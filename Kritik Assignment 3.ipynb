{
 "cells": [
  {
   "cell_type": "code",
   "execution_count": 1,
   "id": "88770e56-bfee-449f-9fb2-59ccb782db50",
   "metadata": {},
   "outputs": [
    {
     "name": "stdout",
     "output_type": "stream",
     "text": [
      "Test 1: (0.9999, 1.0001)\n",
      "Test 2: (0.7852981633974483, 0.7854981633974483)\n",
      "Test 3: (-0.0001, 0.0001)\n"
     ]
    }
   ],
   "source": [
    "import numpy as np\n",
    "\n",
    "def numerical_derivative(func, point, step=1e-8):\n",
    "    return (func(point + step) - func(point - step)) / (2 * step)\n",
    "\n",
    "def tangent_line_approx(func, derivative_at_point, point, val):\n",
    "    return func(point) + derivative_at_point * (val - point)\n",
    "\n",
    "def determine_x1_x2(func, point, tolerance):\n",
    "    derivative_at_point = numerical_derivative(func, point)\n",
    "    linear_model = lambda val: tangent_line_approx(func, derivative_at_point, point, val)\n",
    "    max_iterations = 10000\n",
    "    counter = 0\n",
    "\n",
    "    x1 = point - 1e-4\n",
    "    while abs(func(x1) - linear_model(x1)) > tolerance and counter < max_iterations:\n",
    "        x1 += 1e-4\n",
    "        counter += 1\n",
    "    \n",
    "    counter = 0\n",
    "    x2 = point + 1e-4\n",
    "    while abs(func(x2) - linear_model(x2)) > tolerance and counter < max_iterations:\n",
    "        x2 -= 1e-4\n",
    "        counter += 1\n",
    "\n",
    "    return x1, x2\n",
    "\n",
    "# Test functions\n",
    "test_func1 = lambda x: x**2\n",
    "test_func2 = lambda x: np.sin(x)\n",
    "test_func3 = lambda x: np.exp(x)\n",
    "\n",
    "print(\"Test 1:\", determine_x1_x2(test_func1, point=1, tolerance=0.1))\n",
    "print(\"Test 2:\", determine_x1_x2(test_func2, point=np.pi/4, tolerance=0.05))\n",
    "print(\"Test 3:\", determine_x1_x2(test_func3, point=0, tolerance=0.01))"
   ]
  },
  {
   "cell_type": "code",
   "execution_count": null,
   "id": "b2574357-9bae-4467-99a3-5bc9a493529d",
   "metadata": {},
   "outputs": [],
   "source": []
  }
 ],
 "metadata": {
  "kernelspec": {
   "display_name": "Python 3 (ipykernel)",
   "language": "python",
   "name": "python3"
  },
  "language_info": {
   "codemirror_mode": {
    "name": "ipython",
    "version": 3
   },
   "file_extension": ".py",
   "mimetype": "text/x-python",
   "name": "python",
   "nbconvert_exporter": "python",
   "pygments_lexer": "ipython3",
   "version": "3.12.8"
  }
 },
 "nbformat": 4,
 "nbformat_minor": 5
}
