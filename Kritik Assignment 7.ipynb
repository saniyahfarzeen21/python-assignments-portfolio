{
 "cells": [
  {
   "cell_type": "code",
   "id": "514f5a28-5f6f-4f6c-95d0-26b7148645a0",
   "metadata": {
    "ExecuteTime": {
     "end_time": "2025-03-04T02:56:47.459509Z",
     "start_time": "2025-03-04T02:56:47.412653Z"
    }
   },
   "source": [
    "import numpy as np\n",
    "from scipy.special import gamma\n",
    "\n",
    "def t_distribution_density(x, df):\n",
    "    # Calculate the PDF of the t-distribution at x with given degrees of freedom (df).\n",
    "    factor = gamma((df + 1) / 2) / (np.sqrt(df * np.pi) * gamma(df / 2))\n",
    "    return factor * (1 + (x**2) / df) ** (-0.5 * (df + 1))\n",
    "\n",
    "def get_critical_t(probability, df, x_min=0, x_max=20, steps=10000):\n",
    "    # Find the critical t-value (t*) corresponding to the given probability.\n",
    "    x_values = np.linspace(x_min, x_max, steps)\n",
    "    y_values = t_distribution_density(x_values, df)\n",
    "    cumulative_area = np.cumsum(y_values) * (x_values[1] - x_values[0])\n",
    "    target_area = probability / 2\n",
    "    index = np.where(cumulative_area >= target_area)[0][0]\n",
    "    return x_values[index]\n",
    "\n",
    "def calculate_mean(dataset):\n",
    "    return sum(dataset) / len(dataset)\n",
    "\n",
    "def calculate_std_dev(dataset):\n",
    "    avg = calculate_mean(dataset)\n",
    "    squared_diffs = sum((value - avg) ** 2 for value in dataset)\n",
    "    return (squared_diffs / (len(dataset) - 1)) ** 0.5\n",
    "\n",
    "def calculate_t_statistic(dataset, hypothesized_mean):\n",
    "    sample_mean = calculate_mean(dataset)\n",
    "    sample_std_dev = calculate_std_dev(dataset)\n",
    "    n = len(dataset)\n",
    "    return (sample_mean - hypothesized_mean) / (sample_std_dev / np.sqrt(n))\n",
    "\n",
    "def perform_t_test(dataset, hypothesized_mean, confidence_level, df):\n",
    "    t_stat = abs(calculate_t_statistic(dataset, hypothesized_mean))\n",
    "    critical_t = get_critical_t(confidence_level, df)\n",
    "    return t_stat < critical_t\n",
    "\n",
    "# Example dataset\n",
    "scores = [92.64, 79.00, 84.79, 97.41, 93.68, 65.23, 84.50, 73.49, 73.97, 79.11]\n",
    "population_mean = 75\n",
    "\n",
    "# Displaying results\n",
    "print(f\"Average of test scores: {calculate_mean(scores):.2f}\")\n",
    "print(f\"Sample standard deviation: {calculate_std_dev(scores):.2f}\")\n",
    "print(f\"Critical t-value (t*): {get_critical_t(0.95, len(scores) - 1):.4f}\")\n",
    "print(f\"Calculated t-statistic: {calculate_t_statistic(scores, population_mean):.4f}\")\n",
    "print(f\"t-test passed: {perform_t_test(scores, population_mean, 0.95, len(scores) - 1)}\")\n",
    "print()\n",
    "print(\"The t-test result indicates the scores are significantly different from the population mean.\")\n",
    "print(\"Since the t-statistic is positive, the new teaching methods likely had a positive impact.\")\n",
    "print()\n",
    "print(\"Conclusion: Reject the null hypothesis (µ ≠ µ0)\")"
   ],
   "outputs": [
    {
     "ename": "ModuleNotFoundError",
     "evalue": "No module named 'scipy'",
     "output_type": "error",
     "traceback": [
      "\u001B[1;31m---------------------------------------------------------------------------\u001B[0m",
      "\u001B[1;31mModuleNotFoundError\u001B[0m                       Traceback (most recent call last)",
      "Cell \u001B[1;32mIn[2], line 2\u001B[0m\n\u001B[0;32m      1\u001B[0m \u001B[38;5;28;01mimport\u001B[39;00m \u001B[38;5;21;01mnumpy\u001B[39;00m \u001B[38;5;28;01mas\u001B[39;00m \u001B[38;5;21;01mnp\u001B[39;00m\n\u001B[1;32m----> 2\u001B[0m \u001B[38;5;28;01mfrom\u001B[39;00m \u001B[38;5;21;01mscipy\u001B[39;00m\u001B[38;5;21;01m.\u001B[39;00m\u001B[38;5;21;01mspecial\u001B[39;00m \u001B[38;5;28;01mimport\u001B[39;00m gamma\n\u001B[0;32m      4\u001B[0m \u001B[38;5;28;01mdef\u001B[39;00m \u001B[38;5;21mt_distribution_density\u001B[39m(x, df):\n\u001B[0;32m      5\u001B[0m     \u001B[38;5;66;03m# Calculate the PDF of the t-distribution at x with given degrees of freedom (df).\u001B[39;00m\n\u001B[0;32m      6\u001B[0m     factor \u001B[38;5;241m=\u001B[39m gamma((df \u001B[38;5;241m+\u001B[39m \u001B[38;5;241m1\u001B[39m) \u001B[38;5;241m/\u001B[39m \u001B[38;5;241m2\u001B[39m) \u001B[38;5;241m/\u001B[39m (np\u001B[38;5;241m.\u001B[39msqrt(df \u001B[38;5;241m*\u001B[39m np\u001B[38;5;241m.\u001B[39mpi) \u001B[38;5;241m*\u001B[39m gamma(df \u001B[38;5;241m/\u001B[39m \u001B[38;5;241m2\u001B[39m))\n",
      "\u001B[1;31mModuleNotFoundError\u001B[0m: No module named 'scipy'"
     ]
    }
   ],
   "execution_count": 2
  },
  {
   "cell_type": "code",
   "execution_count": null,
   "id": "d35369d4-ee59-4ff5-b706-cffc3a58e3f5",
   "metadata": {},
   "outputs": [],
   "source": []
  }
 ],
 "metadata": {
  "kernelspec": {
   "display_name": "Python 3 (ipykernel)",
   "language": "python",
   "name": "python3"
  },
  "language_info": {
   "codemirror_mode": {
    "name": "ipython",
    "version": 3
   },
   "file_extension": ".py",
   "mimetype": "text/x-python",
   "name": "python",
   "nbconvert_exporter": "python",
   "pygments_lexer": "ipython3",
   "version": "3.12.8"
  }
 },
 "nbformat": 4,
 "nbformat_minor": 5
}
